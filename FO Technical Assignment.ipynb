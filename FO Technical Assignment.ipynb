{
 "cells": [
  {
   "cell_type": "markdown",
   "metadata": {},
   "source": [
    "# FO Technical Assignment"
   ]
  },
  {
   "cell_type": "code",
   "execution_count": 58,
   "metadata": {},
   "outputs": [],
   "source": [
    "# Import relevent libraries\n",
    "\n",
    "import os\n",
    "import numpy as np\n",
    "import pandas as pd\n",
    "from collections import Counter\n",
    "\n",
    "# Change Directory\n",
    "\n",
    "os.chdir(\"C:\\\\Users\\\\sawal\\\\Desktop\\\\MachLearn\")"
   ]
  },
  {
   "cell_type": "code",
   "execution_count": 59,
   "metadata": {},
   "outputs": [],
   "source": [
    "# Import sample dataframe\n",
    "\n",
    "df = pd.read_csv(\"Practice_File.csv\") # Data from cells A3-E9 on excel document"
   ]
  },
  {
   "cell_type": "markdown",
   "metadata": {},
   "source": [
    "# Part 1\n",
    "\n",
    "## Question 1: What is the average sales per female customer?\n"
   ]
  },
  {
   "cell_type": "code",
   "execution_count": 60,
   "metadata": {},
   "outputs": [
    {
     "name": "stdout",
     "output_type": "stream",
     "text": [
      "The average amount of sales for a female customer is $90.75\n"
     ]
    }
   ],
   "source": [
    "# Create a new variable that strips the \"$\" symbol and converts column to int \n",
    "# for analysis\n",
    "\n",
    "df['Sale_Amt_Adj'] = df.Sale_Amt.str.slice(start = 1).astype(int)\n",
    "\n",
    "# Create mean variable for all Female customers\n",
    "\n",
    "f_avg_sale = df.Sale_Amt_Adj[df.Gender == \"F\"].mean()\n",
    "\n",
    "print('The average amount of sales for a female customer is ${0:.2f}'.format(f_avg_sale))"
   ]
  },
  {
   "cell_type": "markdown",
   "metadata": {},
   "source": [
    "## Question 2a: How many customers have only ordered once?"
   ]
  },
  {
   "cell_type": "code",
   "execution_count": 61,
   "metadata": {},
   "outputs": [
    {
     "name": "stdout",
     "output_type": "stream",
     "text": [
      "The number of customers with a single order only is 1\n"
     ]
    }
   ],
   "source": [
    "# Create counter object\n",
    "\n",
    "order_count = Counter(df.Cust_Id)\n",
    "\n",
    "# Iterate through the Counter and sum the number of single counts\n",
    "\n",
    "one_order_tot = 0\n",
    "for _, count in order_count.most_common():\n",
    "    if count == 1:\n",
    "        one_order_tot += 1\n",
    "        \n",
    "print('The number of customers with a single order only is {}'.format(one_order_tot))"
   ]
  },
  {
   "cell_type": "markdown",
   "metadata": {},
   "source": [
    "## Question 2b: How many customers have more than two purchases\n"
   ]
  },
  {
   "cell_type": "code",
   "execution_count": 62,
   "metadata": {},
   "outputs": [
    {
     "name": "stdout",
     "output_type": "stream",
     "text": [
      "The number of customers with over two orders is 1\n"
     ]
    }
   ],
   "source": [
    "over_two_order_tot = 0\n",
    "for _, count in order_count.most_common():\n",
    "    if count > 2: \n",
    "        over_two_order_tot += 1\n",
    "\n",
    "print('The number of customers with over two orders is {}'.format(over_two_order_tot))"
   ]
  },
  {
   "cell_type": "markdown",
   "metadata": {},
   "source": [
    "## Question 3: Find out how many customers purchased items in 2018 and not 2019"
   ]
  },
  {
   "cell_type": "code",
   "execution_count": 63,
   "metadata": {},
   "outputs": [],
   "source": [
    "# Create variable for just the year\n",
    "\n",
    "df['Year'] = df.Fiscal_Yearmo.astype(str).str[:4]\n",
    "\n",
    "\n",
    "# Use set operations to deduplicate customers who bought both years\n",
    "\n",
    "fy2018 = set(df.Cust_Id[df.Year == \"2018\"])\n",
    "fy2019 = set(df.Cust_Id[df.Year == \"2019\"])\n",
    "\n",
    "# Deduplicate 2018 customers against 2019 customers\n",
    "\n",
    "fy2018_only = fy2018.difference(fy2019)\n"
   ]
  },
  {
   "cell_type": "code",
   "execution_count": 64,
   "metadata": {},
   "outputs": [
    {
     "name": "stdout",
     "output_type": "stream",
     "text": [
      "Number of Customers (unique) who only purchased items in 2018 is 2\n"
     ]
    }
   ],
   "source": [
    "print('Number of Customers (unique) who only purchased items in 2018 is {}'.format(len(fy2018_only)))"
   ]
  },
  {
   "cell_type": "code",
   "execution_count": 65,
   "metadata": {},
   "outputs": [
    {
     "name": "stdout",
     "output_type": "stream",
     "text": [
      "List of Customers below:\n"
     ]
    },
    {
     "data": {
      "text/plain": [
       "{2, 3}"
      ]
     },
     "execution_count": 65,
     "metadata": {},
     "output_type": "execute_result"
    }
   ],
   "source": [
    "print('List of Customers below:')\n",
    "\n",
    "fy2018_only"
   ]
  },
  {
   "cell_type": "markdown",
   "metadata": {},
   "source": [
    "# Part 2\n",
    "\n",
    "## Question 1: Aggregate the data to a customer level\n"
   ]
  },
  {
   "cell_type": "code",
   "execution_count": 66,
   "metadata": {},
   "outputs": [
    {
     "name": "stdout",
     "output_type": "stream",
     "text": [
      "Aggregated customer statistics below:\n"
     ]
    },
    {
     "data": {
      "text/html": [
       "<div>\n",
       "<style scoped>\n",
       "    .dataframe tbody tr th:only-of-type {\n",
       "        vertical-align: middle;\n",
       "    }\n",
       "\n",
       "    .dataframe tbody tr th {\n",
       "        vertical-align: top;\n",
       "    }\n",
       "\n",
       "    .dataframe thead tr th {\n",
       "        text-align: left;\n",
       "    }\n",
       "\n",
       "    .dataframe thead tr:last-of-type th {\n",
       "        text-align: right;\n",
       "    }\n",
       "</style>\n",
       "<table border=\"1\" class=\"dataframe\">\n",
       "  <thead>\n",
       "    <tr>\n",
       "      <th></th>\n",
       "      <th></th>\n",
       "      <th></th>\n",
       "      <th colspan=\"4\" halign=\"left\">Sale_Amt_Adj</th>\n",
       "    </tr>\n",
       "    <tr>\n",
       "      <th></th>\n",
       "      <th></th>\n",
       "      <th></th>\n",
       "      <th>max</th>\n",
       "      <th>mean</th>\n",
       "      <th>min</th>\n",
       "      <th>std</th>\n",
       "    </tr>\n",
       "    <tr>\n",
       "      <th>Cust_Id</th>\n",
       "      <th>Gender</th>\n",
       "      <th>Year</th>\n",
       "      <th></th>\n",
       "      <th></th>\n",
       "      <th></th>\n",
       "      <th></th>\n",
       "    </tr>\n",
       "  </thead>\n",
       "  <tbody>\n",
       "    <tr>\n",
       "      <th rowspan=\"2\" valign=\"top\">1</th>\n",
       "      <th rowspan=\"2\" valign=\"top\">F</th>\n",
       "      <th>2018</th>\n",
       "      <td>140.0</td>\n",
       "      <td>78.5</td>\n",
       "      <td>17.0</td>\n",
       "      <td>86.97</td>\n",
       "    </tr>\n",
       "    <tr>\n",
       "      <th>2019</th>\n",
       "      <td>56.0</td>\n",
       "      <td>56.0</td>\n",
       "      <td>56.0</td>\n",
       "      <td>NaN</td>\n",
       "    </tr>\n",
       "    <tr>\n",
       "      <th>2</th>\n",
       "      <th>M</th>\n",
       "      <th>2018</th>\n",
       "      <td>30.0</td>\n",
       "      <td>22.5</td>\n",
       "      <td>15.0</td>\n",
       "      <td>10.61</td>\n",
       "    </tr>\n",
       "    <tr>\n",
       "      <th>3</th>\n",
       "      <th>F</th>\n",
       "      <th>2018</th>\n",
       "      <td>150.0</td>\n",
       "      <td>150.0</td>\n",
       "      <td>150.0</td>\n",
       "      <td>NaN</td>\n",
       "    </tr>\n",
       "  </tbody>\n",
       "</table>\n",
       "</div>"
      ],
      "text/plain": [
       "                    Sale_Amt_Adj                     \n",
       "                             max   mean    min    std\n",
       "Cust_Id Gender Year                                  \n",
       "1       F      2018        140.0   78.5   17.0  86.97\n",
       "               2019         56.0   56.0   56.0    NaN\n",
       "2       M      2018         30.0   22.5   15.0  10.61\n",
       "3       F      2018        150.0  150.0  150.0    NaN"
      ]
     },
     "execution_count": 66,
     "metadata": {},
     "output_type": "execute_result"
    }
   ],
   "source": [
    "#  Create a pivot table indexed by Customer ID with summary statistics\n",
    "\n",
    "cust_pivot_tab = pd.pivot_table(df, values = ['Sale_Amt_Adj'], index = ['Cust_Id', 'Gender', 'Year'],\n",
    "                           aggfunc = {'Sale_Amt_Adj': [min, max, np.std, np.mean]})\n",
    "\n",
    "print('Aggregated customer statistics below:')\n",
    "cust_pivot_tab.round(2)"
   ]
  },
  {
   "cell_type": "markdown",
   "metadata": {},
   "source": [
    "## Question 2: Create a summary report\n"
   ]
  },
  {
   "cell_type": "code",
   "execution_count": 67,
   "metadata": {},
   "outputs": [],
   "source": [
    "# create unique count of different gendered customers\n",
    "\n",
    "n_cust_f = len(set(df.Cust_Id[df.Gender == \"F\"]))\n",
    "n_cust_m = len(set(df.Cust_Id[df.Gender == \"M\"]))\n",
    "n_cust_tot = (n_cust_f + n_cust_m)"
   ]
  },
  {
   "cell_type": "code",
   "execution_count": 68,
   "metadata": {},
   "outputs": [],
   "source": [
    "# Create pivot table indexed by gender\n",
    "\n",
    "gend_pivot_tab = pd.pivot_table(df, values = 'Sale_Amt_Adj', \n",
    "                                columns = 'Year', index = 'Gender', \n",
    "                                aggfunc = np.mean, margins = True)\n",
    "\n",
    "# Insert separate customer count column for Customer count (unique)\n",
    "\n",
    "# Create new name\n",
    "new_col = [n_cust_f, n_cust_m, n_cust_tot]\n",
    "\n",
    "gend_pivot_tab.insert(loc = 0, column = \"Customers\", value = new_col)\n",
    "\n",
    "# Name the columns\n",
    "\n",
    "gend_pivot_tab.columns = ['# of Customers', '2018 Average Sales', '2019 Average Sales', 'Overall Average Sales']\n",
    "\n"
   ]
  },
  {
   "cell_type": "code",
   "execution_count": 69,
   "metadata": {},
   "outputs": [
    {
     "name": "stdout",
     "output_type": "stream",
     "text": [
      "Replicated table below:\n"
     ]
    },
    {
     "data": {
      "text/html": [
       "<div>\n",
       "<style scoped>\n",
       "    .dataframe tbody tr th:only-of-type {\n",
       "        vertical-align: middle;\n",
       "    }\n",
       "\n",
       "    .dataframe tbody tr th {\n",
       "        vertical-align: top;\n",
       "    }\n",
       "\n",
       "    .dataframe thead th {\n",
       "        text-align: right;\n",
       "    }\n",
       "</style>\n",
       "<table border=\"1\" class=\"dataframe\">\n",
       "  <thead>\n",
       "    <tr style=\"text-align: right;\">\n",
       "      <th></th>\n",
       "      <th># of Customers</th>\n",
       "      <th>2018 Average Sales</th>\n",
       "      <th>2019 Average Sales</th>\n",
       "      <th>Overall Average Sales</th>\n",
       "    </tr>\n",
       "    <tr>\n",
       "      <th>Gender</th>\n",
       "      <th></th>\n",
       "      <th></th>\n",
       "      <th></th>\n",
       "      <th></th>\n",
       "    </tr>\n",
       "  </thead>\n",
       "  <tbody>\n",
       "    <tr>\n",
       "      <th>F</th>\n",
       "      <td>2</td>\n",
       "      <td>102.33</td>\n",
       "      <td>56.0</td>\n",
       "      <td>90.75</td>\n",
       "    </tr>\n",
       "    <tr>\n",
       "      <th>M</th>\n",
       "      <td>1</td>\n",
       "      <td>22.50</td>\n",
       "      <td>NaN</td>\n",
       "      <td>22.50</td>\n",
       "    </tr>\n",
       "    <tr>\n",
       "      <th>All</th>\n",
       "      <td>3</td>\n",
       "      <td>70.40</td>\n",
       "      <td>56.0</td>\n",
       "      <td>68.00</td>\n",
       "    </tr>\n",
       "  </tbody>\n",
       "</table>\n",
       "</div>"
      ],
      "text/plain": [
       "        # of Customers  2018 Average Sales  2019 Average Sales  \\\n",
       "Gender                                                           \n",
       "F                    2              102.33                56.0   \n",
       "M                    1               22.50                 NaN   \n",
       "All                  3               70.40                56.0   \n",
       "\n",
       "        Overall Average Sales  \n",
       "Gender                         \n",
       "F                       90.75  \n",
       "M                       22.50  \n",
       "All                     68.00  "
      ]
     },
     "execution_count": 69,
     "metadata": {},
     "output_type": "execute_result"
    }
   ],
   "source": [
    "print('Replicated table below:')\n",
    "gend_pivot_tab.round(2)"
   ]
  }
 ],
 "metadata": {
  "kernelspec": {
   "display_name": "Python 3",
   "language": "python",
   "name": "python3"
  },
  "language_info": {
   "codemirror_mode": {
    "name": "ipython",
    "version": 3
   },
   "file_extension": ".py",
   "mimetype": "text/x-python",
   "name": "python",
   "nbconvert_exporter": "python",
   "pygments_lexer": "ipython3",
   "version": "3.7.1"
  }
 },
 "nbformat": 4,
 "nbformat_minor": 2
}
